{
 "cells": [
  {
   "cell_type": "markdown",
   "id": "9a57c4c6",
   "metadata": {},
   "source": [
    "# Eat Safe, Love"
   ]
  },
  {
   "cell_type": "markdown",
   "id": "064ef857",
   "metadata": {},
   "source": [
    "## Part 1: Database and Jupyter Notebook Set Up"
   ]
  },
  {
   "cell_type": "markdown",
   "id": "664e3c1f",
   "metadata": {},
   "source": [
    "Import the data provided in the `establishments.json` file from your Terminal. Name the database `uk_food` and the collection `establishments`.\n",
    "\n",
    "Within this markdown cell, copy the line of text you used to import the data from your Terminal. This way, future analysts will be able to repeat your process.\n",
    "\n",
    "e.g.: Import the dataset with `YOUR IMPORT TEXT HERE`"
   ]
  },
  {
   "cell_type": "code",
   "execution_count": 30,
   "id": "3ecdd008",
   "metadata": {},
   "outputs": [],
   "source": [
    "# Import dependencies\n",
    "from pymongo import MongoClient\n",
    "from pprint import pprint\n",
    "import json\n",
    "import pandas as pd"
   ]
  },
  {
   "cell_type": "code",
   "execution_count": 15,
   "id": "6d5cbb62",
   "metadata": {},
   "outputs": [],
   "source": [
    "# Mongo is not working the links from class are no longer valid\n",
    "# i read in the .json file to complete the assignment"
   ]
  },
  {
   "cell_type": "code",
   "execution_count": 16,
   "id": "2be86f42",
   "metadata": {},
   "outputs": [],
   "source": [
    "# mongodb_uri = 'mongodb://localhost:27017/'\n",
    "# client = MongoClient(mongodb.uri)"
   ]
  },
  {
   "cell_type": "code",
   "execution_count": 36,
   "id": "59390c4a",
   "metadata": {
    "scrolled": true
   },
   "outputs": [],
   "source": [
    "# Create an instance of MongoClient\n",
    "mongo = MongoClient(port=27017)\n",
    "json_file_path = (r\"C:\\Users\\Owner\\Mod 12B\\establishments.json\")"
   ]
  },
  {
   "cell_type": "code",
   "execution_count": 49,
   "id": "1927c31e",
   "metadata": {
    "scrolled": true
   },
   "outputs": [
    {
     "data": {
      "text/html": [
       "<div>\n",
       "<style scoped>\n",
       "    .dataframe tbody tr th:only-of-type {\n",
       "        vertical-align: middle;\n",
       "    }\n",
       "\n",
       "    .dataframe tbody tr th {\n",
       "        vertical-align: top;\n",
       "    }\n",
       "\n",
       "    .dataframe thead th {\n",
       "        text-align: right;\n",
       "    }\n",
       "</style>\n",
       "<table border=\"1\" class=\"dataframe\">\n",
       "  <thead>\n",
       "    <tr style=\"text-align: right;\">\n",
       "      <th></th>\n",
       "      <th>FHRSID</th>\n",
       "      <th>ChangesByServerID</th>\n",
       "      <th>LocalAuthorityBusinessID</th>\n",
       "      <th>BusinessName</th>\n",
       "      <th>BusinessType</th>\n",
       "      <th>BusinessTypeID</th>\n",
       "      <th>AddressLine1</th>\n",
       "      <th>AddressLine2</th>\n",
       "      <th>AddressLine3</th>\n",
       "      <th>AddressLine4</th>\n",
       "      <th>...</th>\n",
       "      <th>LocalAuthorityWebSite</th>\n",
       "      <th>LocalAuthorityEmailAddress</th>\n",
       "      <th>scores</th>\n",
       "      <th>SchemeType</th>\n",
       "      <th>geocode</th>\n",
       "      <th>RightToReply</th>\n",
       "      <th>Distance</th>\n",
       "      <th>NewRatingPending</th>\n",
       "      <th>meta</th>\n",
       "      <th>links</th>\n",
       "    </tr>\n",
       "  </thead>\n",
       "  <tbody>\n",
       "    <tr>\n",
       "      <th>0</th>\n",
       "      <td>254719</td>\n",
       "      <td>0</td>\n",
       "      <td>PI/000069980</td>\n",
       "      <td>Refreshment Kiosk</td>\n",
       "      <td>Restaurant/Cafe/Canteen</td>\n",
       "      <td>1</td>\n",
       "      <td>The Bay</td>\n",
       "      <td>St Margarets Bay</td>\n",
       "      <td>Kent</td>\n",
       "      <td></td>\n",
       "      <td>...</td>\n",
       "      <td>http://www.dover.gov.uk/</td>\n",
       "      <td>publicprotection@dover.gov.uk</td>\n",
       "      <td>{'Hygiene': 0, 'Structural': 5, 'ConfidenceInM...</td>\n",
       "      <td>FHRS</td>\n",
       "      <td>{'longitude': '1.387974', 'latitude': '51.1522...</td>\n",
       "      <td></td>\n",
       "      <td>4587.347175</td>\n",
       "      <td>False</td>\n",
       "      <td>{'dataSource': None, 'extractDate': '0001-01-0...</td>\n",
       "      <td>[{'rel': 'self', 'href': 'https://api.ratings....</td>\n",
       "    </tr>\n",
       "    <tr>\n",
       "      <th>1</th>\n",
       "      <td>1034540</td>\n",
       "      <td>0</td>\n",
       "      <td>PI/000078691</td>\n",
       "      <td>The Coastguard Inn</td>\n",
       "      <td>Pub/bar/nightclub</td>\n",
       "      <td>7843</td>\n",
       "      <td>The Bay</td>\n",
       "      <td>St Margarets Bay</td>\n",
       "      <td>Kent</td>\n",
       "      <td></td>\n",
       "      <td>...</td>\n",
       "      <td>http://www.dover.gov.uk/</td>\n",
       "      <td>publicprotection@dover.gov.uk</td>\n",
       "      <td>{'Hygiene': 0, 'Structural': 5, 'ConfidenceInM...</td>\n",
       "      <td>FHRS</td>\n",
       "      <td>{'longitude': '1.387974', 'latitude': '51.1522...</td>\n",
       "      <td></td>\n",
       "      <td>4587.347175</td>\n",
       "      <td>False</td>\n",
       "      <td>{'dataSource': None, 'extractDate': '0001-01-0...</td>\n",
       "      <td>[{'rel': 'self', 'href': 'https://api.ratings....</td>\n",
       "    </tr>\n",
       "    <tr>\n",
       "      <th>2</th>\n",
       "      <td>254250</td>\n",
       "      <td>0</td>\n",
       "      <td>PI/000066174</td>\n",
       "      <td>The Pines Calyx</td>\n",
       "      <td>Other catering premises</td>\n",
       "      <td>7841</td>\n",
       "      <td>The Pines Garden</td>\n",
       "      <td>Beach Road</td>\n",
       "      <td>St Margarets Bay</td>\n",
       "      <td>Kent</td>\n",
       "      <td>...</td>\n",
       "      <td>http://www.dover.gov.uk/</td>\n",
       "      <td>publicprotection@dover.gov.uk</td>\n",
       "      <td>{'Hygiene': 0, 'Structural': 0, 'ConfidenceInM...</td>\n",
       "      <td>FHRS</td>\n",
       "      <td>{'longitude': '1.383298', 'latitude': '51.1481...</td>\n",
       "      <td></td>\n",
       "      <td>4587.362403</td>\n",
       "      <td>False</td>\n",
       "      <td>{'dataSource': None, 'extractDate': '0001-01-0...</td>\n",
       "      <td>[{'rel': 'self', 'href': 'https://api.ratings....</td>\n",
       "    </tr>\n",
       "    <tr>\n",
       "      <th>3</th>\n",
       "      <td>551803</td>\n",
       "      <td>0</td>\n",
       "      <td>PI/000070948</td>\n",
       "      <td>The Tea Room</td>\n",
       "      <td>Restaurant/Cafe/Canteen</td>\n",
       "      <td>1</td>\n",
       "      <td>The Pines Garden</td>\n",
       "      <td>Beach Road</td>\n",
       "      <td>St Margarets Bay</td>\n",
       "      <td>Kent</td>\n",
       "      <td>...</td>\n",
       "      <td>http://www.dover.gov.uk/</td>\n",
       "      <td>publicprotection@dover.gov.uk</td>\n",
       "      <td>{'Hygiene': 0, 'Structural': 0, 'ConfidenceInM...</td>\n",
       "      <td>FHRS</td>\n",
       "      <td>{'longitude': '1.383298', 'latitude': '51.1481...</td>\n",
       "      <td></td>\n",
       "      <td>4587.362403</td>\n",
       "      <td>False</td>\n",
       "      <td>{'dataSource': None, 'extractDate': '0001-01-0...</td>\n",
       "      <td>[{'rel': 'self', 'href': 'https://api.ratings....</td>\n",
       "    </tr>\n",
       "    <tr>\n",
       "      <th>4</th>\n",
       "      <td>632212</td>\n",
       "      <td>0</td>\n",
       "      <td>PI/000043474</td>\n",
       "      <td>Lenox House</td>\n",
       "      <td>Hotel/bed &amp; breakfast/guest house</td>\n",
       "      <td>7842</td>\n",
       "      <td>27 Granville Road</td>\n",
       "      <td>St Margarets Bay</td>\n",
       "      <td>Kent</td>\n",
       "      <td></td>\n",
       "      <td>...</td>\n",
       "      <td>http://www.dover.gov.uk/</td>\n",
       "      <td>publicprotection@dover.gov.uk</td>\n",
       "      <td>{'Hygiene': 0, 'Structural': 0, 'ConfidenceInM...</td>\n",
       "      <td>FHRS</td>\n",
       "      <td>{'longitude': '1.385585', 'latitude': '51.1524...</td>\n",
       "      <td></td>\n",
       "      <td>4587.440907</td>\n",
       "      <td>False</td>\n",
       "      <td>{'dataSource': None, 'extractDate': '0001-01-0...</td>\n",
       "      <td>[{'rel': 'self', 'href': 'https://api.ratings....</td>\n",
       "    </tr>\n",
       "  </tbody>\n",
       "</table>\n",
       "<p>5 rows × 27 columns</p>\n",
       "</div>"
      ],
      "text/plain": [
       "    FHRSID  ChangesByServerID LocalAuthorityBusinessID        BusinessName  \\\n",
       "0   254719                  0             PI/000069980   Refreshment Kiosk   \n",
       "1  1034540                  0             PI/000078691  The Coastguard Inn   \n",
       "2   254250                  0             PI/000066174     The Pines Calyx   \n",
       "3   551803                  0             PI/000070948        The Tea Room   \n",
       "4   632212                  0             PI/000043474         Lenox House   \n",
       "\n",
       "                        BusinessType  BusinessTypeID       AddressLine1  \\\n",
       "0            Restaurant/Cafe/Canteen               1            The Bay   \n",
       "1                  Pub/bar/nightclub            7843            The Bay   \n",
       "2            Other catering premises            7841   The Pines Garden   \n",
       "3            Restaurant/Cafe/Canteen               1   The Pines Garden   \n",
       "4  Hotel/bed & breakfast/guest house            7842  27 Granville Road   \n",
       "\n",
       "       AddressLine2      AddressLine3 AddressLine4  ...  \\\n",
       "0  St Margarets Bay              Kent               ...   \n",
       "1  St Margarets Bay              Kent               ...   \n",
       "2        Beach Road  St Margarets Bay         Kent  ...   \n",
       "3        Beach Road  St Margarets Bay         Kent  ...   \n",
       "4  St Margarets Bay              Kent               ...   \n",
       "\n",
       "      LocalAuthorityWebSite     LocalAuthorityEmailAddress  \\\n",
       "0  http://www.dover.gov.uk/  publicprotection@dover.gov.uk   \n",
       "1  http://www.dover.gov.uk/  publicprotection@dover.gov.uk   \n",
       "2  http://www.dover.gov.uk/  publicprotection@dover.gov.uk   \n",
       "3  http://www.dover.gov.uk/  publicprotection@dover.gov.uk   \n",
       "4  http://www.dover.gov.uk/  publicprotection@dover.gov.uk   \n",
       "\n",
       "                                              scores SchemeType  \\\n",
       "0  {'Hygiene': 0, 'Structural': 5, 'ConfidenceInM...       FHRS   \n",
       "1  {'Hygiene': 0, 'Structural': 5, 'ConfidenceInM...       FHRS   \n",
       "2  {'Hygiene': 0, 'Structural': 0, 'ConfidenceInM...       FHRS   \n",
       "3  {'Hygiene': 0, 'Structural': 0, 'ConfidenceInM...       FHRS   \n",
       "4  {'Hygiene': 0, 'Structural': 0, 'ConfidenceInM...       FHRS   \n",
       "\n",
       "                                             geocode  RightToReply  \\\n",
       "0  {'longitude': '1.387974', 'latitude': '51.1522...                 \n",
       "1  {'longitude': '1.387974', 'latitude': '51.1522...                 \n",
       "2  {'longitude': '1.383298', 'latitude': '51.1481...                 \n",
       "3  {'longitude': '1.383298', 'latitude': '51.1481...                 \n",
       "4  {'longitude': '1.385585', 'latitude': '51.1524...                 \n",
       "\n",
       "      Distance NewRatingPending  \\\n",
       "0  4587.347175            False   \n",
       "1  4587.347175            False   \n",
       "2  4587.362403            False   \n",
       "3  4587.362403            False   \n",
       "4  4587.440907            False   \n",
       "\n",
       "                                                meta  \\\n",
       "0  {'dataSource': None, 'extractDate': '0001-01-0...   \n",
       "1  {'dataSource': None, 'extractDate': '0001-01-0...   \n",
       "2  {'dataSource': None, 'extractDate': '0001-01-0...   \n",
       "3  {'dataSource': None, 'extractDate': '0001-01-0...   \n",
       "4  {'dataSource': None, 'extractDate': '0001-01-0...   \n",
       "\n",
       "                                               links  \n",
       "0  [{'rel': 'self', 'href': 'https://api.ratings....  \n",
       "1  [{'rel': 'self', 'href': 'https://api.ratings....  \n",
       "2  [{'rel': 'self', 'href': 'https://api.ratings....  \n",
       "3  [{'rel': 'self', 'href': 'https://api.ratings....  \n",
       "4  [{'rel': 'self', 'href': 'https://api.ratings....  \n",
       "\n",
       "[5 rows x 27 columns]"
      ]
     },
     "execution_count": 49,
     "metadata": {},
     "output_type": "execute_result"
    }
   ],
   "source": [
    "uk_fooddb = pd.read_json(json_file_path, orient='records')\n",
    "uk_fooddb.head(5)"
   ]
  },
  {
   "cell_type": "code",
   "execution_count": null,
   "id": "e7944d5a",
   "metadata": {},
   "outputs": [],
   "source": [
    "# "
   ]
  },
  {
   "cell_type": "code",
   "execution_count": 41,
   "id": "7f9ececa",
   "metadata": {},
   "outputs": [
    {
     "name": "stdout",
     "output_type": "stream",
     "text": [
      "['admin', 'config', 'local']\n"
     ]
    }
   ],
   "source": [
    "# confirm that our new database was created\n",
    "existing_databases = mongo.list_database_names()\n",
    "print(existing_databases)"
   ]
  },
  {
   "cell_type": "code",
   "execution_count": 42,
   "id": "71e373c1",
   "metadata": {},
   "outputs": [],
   "source": [
    "# assign the uk_food database to a variable name\n",
    "db2 = mongo['uk_food']"
   ]
  },
  {
   "cell_type": "code",
   "execution_count": 52,
   "id": "fd975d02",
   "metadata": {},
   "outputs": [],
   "source": [
    "collections = db2.list_collection_names()"
   ]
  },
  {
   "cell_type": "code",
   "execution_count": null,
   "id": "2224bd1b",
   "metadata": {
    "scrolled": true
   },
   "outputs": [],
   "source": [
    "# table SQL = MONGODB COLLECTION \n",
    "# row       =   DOCUMENT\n",
    "# column    =  FIELD\n",
    "\n",
    "# FILE HAS ONLY ONE TABLE"
   ]
  },
  {
   "cell_type": "code",
   "execution_count": 44,
   "id": "4c6b1161",
   "metadata": {
    "scrolled": false
   },
   "outputs": [],
   "source": [
    "# insert JSON data into collection\n",
    "# uk_collection_name = 'establishments_collection'\n",
    "# db[uk_collection_name].insert_many(json_data.list)"
   ]
  },
  {
   "cell_type": "code",
   "execution_count": 51,
   "id": "ef1b89ed",
   "metadata": {},
   "outputs": [],
   "source": [
    "# review the collections in our new database\n",
    "# collections = uk_fooddb.list_collection_names()"
   ]
  },
  {
   "cell_type": "code",
   "execution_count": 53,
   "id": "18ab463c",
   "metadata": {},
   "outputs": [
    {
     "name": "stdout",
     "output_type": "stream",
     "text": [
      "no collections found\n"
     ]
    }
   ],
   "source": [
    "# review the collections in our new database\n",
    "if collections:\n",
    "    print(\"Collections in the uk_food database: \")\n",
    "    for collection in collections:\n",
    "        print(collection)\n",
    "else:\n",
    "    print(\"no collections found\")\n"
   ]
  },
  {
   "cell_type": "code",
   "execution_count": 57,
   "id": "6a0d92df",
   "metadata": {},
   "outputs": [
    {
     "name": "stdout",
     "output_type": "stream",
     "text": [
      "FHRSID                                                                  1034540\n",
      "ChangesByServerID                                                             0\n",
      "LocalAuthorityBusinessID                                           PI/000078691\n",
      "BusinessName                                                 The Coastguard Inn\n",
      "BusinessType                                                  Pub/bar/nightclub\n",
      "BusinessTypeID                                                             7843\n",
      "AddressLine1                                                            The Bay\n",
      "AddressLine2                                                   St Margarets Bay\n",
      "AddressLine3                                                               Kent\n",
      "AddressLine4                                                                   \n",
      "PostCode                                                               CT15 6DY\n",
      "Phone                                                                          \n",
      "RatingValue                                                                   5\n",
      "RatingKey                                                          fhrs_5_en-gb\n",
      "RatingDate                                                  2022-08-17T00:00:00\n",
      "LocalAuthorityCode                                                          182\n",
      "LocalAuthorityName                                                        Dover\n",
      "LocalAuthorityWebSite                                  http://www.dover.gov.uk/\n",
      "LocalAuthorityEmailAddress                        publicprotection@dover.gov.uk\n",
      "scores                        {'Hygiene': 0, 'Structural': 5, 'ConfidenceInM...\n",
      "SchemeType                                                                 FHRS\n",
      "geocode                       {'longitude': '1.387974', 'latitude': '51.1522...\n",
      "RightToReply                                                                   \n",
      "Distance                                                            4587.347175\n",
      "NewRatingPending                                                          False\n",
      "meta                          {'dataSource': None, 'extractDate': '0001-01-0...\n",
      "links                         [{'rel': 'self', 'href': 'https://api.ratings....\n",
      "Name: 1, dtype: object\n"
     ]
    }
   ],
   "source": [
    "# review a document in the establishments collection\n",
    "# row       =   DOCUMENT   \n",
    "# uk_fooddb.head(5)\n",
    "row1 =uk_fooddb.iloc[1]\n",
    "print(row1)"
   ]
  },
  {
   "cell_type": "code",
   "execution_count": null,
   "id": "11c9f11b",
   "metadata": {},
   "outputs": [],
   "source": [
    "# assign the collection to a variable\n",
    "establishments = db['establishments']"
   ]
  },
  {
   "cell_type": "markdown",
   "id": "d5671434",
   "metadata": {},
   "source": [
    "## Part 2: Update the Database"
   ]
  },
  {
   "cell_type": "markdown",
   "id": "314bd884",
   "metadata": {},
   "source": [
    "1. An exciting new halal restaurant just opened in Greenwich, but hasn't been rated yet. The magazine has asked you to include it in your analysis. Add the following restaurant \"Penang Flavours\" to the database."
   ]
  },
  {
   "cell_type": "code",
   "execution_count": null,
   "id": "c2da7648",
   "metadata": {},
   "outputs": [],
   "source": [
    "# Create a dictionary for the new restaurant data\n"
   ]
  },
  {
   "cell_type": "code",
   "execution_count": null,
   "id": "a6e5cece",
   "metadata": {},
   "outputs": [],
   "source": [
    "# Insert the new restaurant into the collection\n"
   ]
  },
  {
   "cell_type": "code",
   "execution_count": null,
   "id": "63bb10f9",
   "metadata": {},
   "outputs": [],
   "source": [
    "# Check that the new restaurant was inserted\n"
   ]
  },
  {
   "cell_type": "markdown",
   "id": "0ef4395a",
   "metadata": {},
   "source": [
    "2. Find the BusinessTypeID for \"Restaurant/Cafe/Canteen\" and return only the `BusinessTypeID` and `BusinessType` fields."
   ]
  },
  {
   "cell_type": "code",
   "execution_count": null,
   "id": "93c63829",
   "metadata": {},
   "outputs": [],
   "source": [
    "# Find the BusinessTypeID for \"Restaurant/Cafe/Canteen\" and return only the BusinessTypeID and BusinessType fields\n"
   ]
  },
  {
   "cell_type": "markdown",
   "id": "4e570caf",
   "metadata": {},
   "source": [
    "3. Update the new restaurant with the `BusinessTypeID` you found."
   ]
  },
  {
   "cell_type": "code",
   "execution_count": null,
   "id": "7f599f3d",
   "metadata": {},
   "outputs": [],
   "source": [
    "# Update the new restaurant with the correct BusinessTypeID\n"
   ]
  },
  {
   "cell_type": "code",
   "execution_count": null,
   "id": "a6ad16f7",
   "metadata": {},
   "outputs": [],
   "source": [
    "# Confirm that the new restaurant was updated\n"
   ]
  },
  {
   "cell_type": "markdown",
   "id": "67281254",
   "metadata": {},
   "source": [
    "4. The magazine is not interested in any establishments in Dover, so check how many documents contain the Dover Local Authority. Then, remove any establishments within the Dover Local Authority from the database, and check the number of documents to ensure they were deleted."
   ]
  },
  {
   "cell_type": "code",
   "execution_count": null,
   "id": "768474a6",
   "metadata": {},
   "outputs": [],
   "source": [
    "# Find how many documents have LocalAuthorityName as \"Dover\"\n"
   ]
  },
  {
   "cell_type": "code",
   "execution_count": null,
   "id": "a11d5f1b",
   "metadata": {},
   "outputs": [],
   "source": [
    "# Delete all documents where LocalAuthorityName is \"Dover\"\n"
   ]
  },
  {
   "cell_type": "code",
   "execution_count": null,
   "id": "2a51aba0",
   "metadata": {},
   "outputs": [],
   "source": [
    "# Check if any remaining documents include Dover\n"
   ]
  },
  {
   "cell_type": "code",
   "execution_count": null,
   "id": "8c356f7b",
   "metadata": {},
   "outputs": [],
   "source": [
    "# Check that other documents remain with 'find_one'\n"
   ]
  },
  {
   "cell_type": "markdown",
   "id": "e9f1662d",
   "metadata": {},
   "source": [
    "5. Some of the number values are stored as strings, when they should be stored as numbers."
   ]
  },
  {
   "cell_type": "markdown",
   "id": "c46df2df",
   "metadata": {},
   "source": [
    "Use `update_many` to convert `latitude` and `longitude` to decimal numbers."
   ]
  },
  {
   "cell_type": "code",
   "execution_count": null,
   "id": "fd4112ce",
   "metadata": {},
   "outputs": [],
   "source": [
    "# Change the data type from String to Decimal for longitude and latitude\n"
   ]
  },
  {
   "cell_type": "markdown",
   "id": "142e319c",
   "metadata": {},
   "source": [
    "Use `update_many` to convert `RatingValue` to integer numbers."
   ]
  },
  {
   "cell_type": "code",
   "execution_count": null,
   "id": "04430a5b",
   "metadata": {},
   "outputs": [],
   "source": [
    "# Set non 1-5 Rating Values to Null\n",
    "non_ratings = [\"AwaitingInspection\", \"Awaiting Inspection\", \"AwaitingPublication\", \"Pass\", \"Exempt\"]\n",
    "establishments.update_many({\"RatingValue\": {\"$in\": non_ratings}}, [ {'$set':{ \"RatingValue\" : None}} ])"
   ]
  },
  {
   "cell_type": "code",
   "execution_count": null,
   "id": "92524ccc",
   "metadata": {},
   "outputs": [],
   "source": [
    "# Change the data type from String to Integer for RatingValue\n"
   ]
  },
  {
   "cell_type": "code",
   "execution_count": null,
   "id": "0deacaf9",
   "metadata": {},
   "outputs": [],
   "source": [
    "# Check that the coordinates and rating value are now numbers\n"
   ]
  }
 ],
 "metadata": {
  "kernelspec": {
   "display_name": "Python 3 (ipykernel)",
   "language": "python",
   "name": "python3"
  },
  "language_info": {
   "codemirror_mode": {
    "name": "ipython",
    "version": 3
   },
   "file_extension": ".py",
   "mimetype": "text/x-python",
   "name": "python",
   "nbconvert_exporter": "python",
   "pygments_lexer": "ipython3",
   "version": "3.10.9"
  }
 },
 "nbformat": 4,
 "nbformat_minor": 5
}
